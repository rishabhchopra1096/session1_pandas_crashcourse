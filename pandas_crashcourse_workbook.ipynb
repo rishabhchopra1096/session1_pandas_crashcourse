{
 "cells": [
  {
   "cell_type": "code",
   "execution_count": 1,
   "id": "abbb11ff",
   "metadata": {},
   "outputs": [
    {
     "data": {
      "text/html": [
       "\n",
       "<style>\n",
       "\n",
       "div.text_cell_render h1, h2, h3, h4, h5 { \n",
       "font-family: 'Helvetica';\n",
       "}\n",
       "\n",
       "div.text_cell_render h1{\n",
       "line-height:40px;\n",
       "}\n",
       "\n",
       "div.text_cell_render h2{\n",
       "line-height:35px;\n",
       "}\n",
       "\n",
       "div.text_cell_render { /* Customize text cells */\n",
       "font-family: 'Avenir';\n",
       "font-size:15px;\n",
       "line-height:20px;\n",
       "color: #292929;\n",
       "font-weight:400;\n",
       "}\n",
       "</style>\n"
      ],
      "text/plain": [
       "<IPython.core.display.HTML object>"
      ]
     },
     "execution_count": 1,
     "metadata": {},
     "output_type": "execute_result"
    }
   ],
   "source": [
    "# Make the jupyter notebook pretty \n",
    "# Run for formatting text\n",
    "from IPython.core.display import display, HTML\n",
    "HTML(\"\"\"\n",
    "<style>\n",
    "\n",
    "div.text_cell_render h1, h2, h3, h4, h5 { \n",
    "font-family: 'Helvetica';\n",
    "}\n",
    "\n",
    "div.text_cell_render h1{\n",
    "line-height:40px;\n",
    "}\n",
    "\n",
    "div.text_cell_render h2{\n",
    "line-height:35px;\n",
    "}\n",
    "\n",
    "div.text_cell_render { /* Customize text cells */\n",
    "font-family: 'Avenir';\n",
    "font-size:15px;\n",
    "line-height:20px;\n",
    "color: #292929;\n",
    "font-weight:400;\n",
    "}\n",
    "</style>\n",
    "\"\"\")"
   ]
  },
  {
   "cell_type": "markdown",
   "id": "prcquSVIP9sV",
   "metadata": {
    "id": "prcquSVIP9sV"
   },
   "source": [
    "# Pandas Crash Course"
   ]
  },
  {
   "cell_type": "markdown",
   "id": "2Wlgx_qYO4Ue",
   "metadata": {
    "id": "2Wlgx_qYO4Ue"
   },
   "source": [
    "### Pre-requisites \n",
    "- [`Python`](https://classroom.udacity.com/nanodegrees/nd002/parts/762c0200-e8a7-425b-be49-7080cc533c7d/modules/d2268785-db9d-4aaa-ab44-afec79099d7d/lessons/9b196814-cfcd-4732-890c-cd2834819e56/concepts/285fb88b-39c5-4c6b-8b43-0081e83ef1e3)   \n",
    "\n",
    "- [`NumPy`](https://classroom.udacity.com/nanodegrees/nd002/parts/762c0200-e8a7-425b-be49-7080cc533c7d/modules/d2268785-db9d-4aaa-ab44-afec79099d7d/lessons/8b1c5460-63fc-4a45-a8a5-3564f160497f/concepts/910f8478-dc21-4c3a-943f-9a22e73bc8e8)"
   ]
  },
  {
   "cell_type": "markdown",
   "id": "O4TnPrGcPNbY",
   "metadata": {
    "id": "O4TnPrGcPNbY"
   },
   "source": [
    "### What are we going to learn today? \n",
    "\n",
    "The following tutorial goes into practical use cases of `pandas` functions. The things we are going to learn today will be useful to any project in the Data Analyst Nanodegree. \n",
    "\n",
    "1. Handling Missing Data\n",
    "2. Comparing Groups\n",
    "3. Examining Relationships\n",
    "4. String Methods\n",
    "5. Working with Dates \n",
    "\n",
    "### How is this session structured? \n",
    "- We're going to go through a bunch of exercises. \n",
    "- Each exercise is going to have a driving question that we'll try to answer. \n",
    "- In between those explorations, there are `TODO` code blocks questions you'll answer. \n",
    "- After each exercise, you'll reflect on your learnings and ask me any questions that you have. \n",
    "\n",
    "I strongly encourage you to code along with me! Open the zoom window in one half, and this notebook in the other half. "
   ]
  },
  {
   "cell_type": "markdown",
   "id": "8GBQ9NpvPhpy",
   "metadata": {
    "id": "8GBQ9NpvPhpy"
   },
   "source": [
    "### What does this tutorial not cover? \n",
    "\n",
    "This tutorial will not be focusing too much on: \n",
    "\n",
    "- Creating Pandas Series and DataFrames using various methods. \n",
    "- How to access and change elements in Series and DataFrames\n",
    "- How to perform arithmetic operations on Series\n",
    "\n",
    "I __strongly suggest__ going through the [`NumPy`](https://classroom.udacity.com/nanodegrees/nd002/parts/762c0200-e8a7-425b-be49-7080cc533c7d/modules/d2268785-db9d-4aaa-ab44-afec79099d7d/lessons/8b1c5460-63fc-4a45-a8a5-3564f160497f/concepts/910f8478-dc21-4c3a-943f-9a22e73bc8e8) and [`Pandas`](https://classroom.udacity.com/nanodegrees/nd104/parts/53470233-d93c-4a31-a59f-11388272fe6b/modules/f3b23360-681f-4451-b30b-ed5f406c98a9/lessons/5ef93dbc-0b28-4cf2-af03-e712c5838373/concepts/08bfe507-6877-4d5c-9a16-6a0b743a65ac) tutorials given in the Extra-Curricular section of your classroom, given that you are comfortable with [`Python`](https://classroom.udacity.com/nanodegrees/nd002/parts/762c0200-e8a7-425b-be49-7080cc533c7d/modules/d2268785-db9d-4aaa-ab44-afec79099d7d/lessons/9b196814-cfcd-4732-890c-cd2834819e56/concepts/285fb88b-39c5-4c6b-8b43-0081e83ef1e3). "
   ]
  },
  {
   "cell_type": "markdown",
   "id": "7e04a77e",
   "metadata": {},
   "source": [
    "### Why Pandas? \n",
    "- We can come up with questions by looking at our dataset. \n",
    "- Pandas gives us the tools to arrange data in the way we want, and answer the questions we want. \n",
    "- Today, we're going to go through all those tools and functions. \n",
    "\n",
    "Next time you have a question you want to explore - you'll have the tools to explore it. "
   ]
  },
  {
   "cell_type": "markdown",
   "id": "w-4VNKDzRA2a",
   "metadata": {
    "id": "w-4VNKDzRA2a"
   },
   "source": [
    "### Which datasets are we using? \n",
    "- `police.csv` is the Rhode Island dataset from the [Stanford Open Policing Project](https://openpolicing.stanford.edu/), made available under the [Open Data Commons Attribution License](https://opendatacommons.org/licenses/by/summary/). \n",
    "- `drinks.csv` is the dataset that records [alcohol consumption by country](https://www.kaggle.com/justmarkham/alcohol-consumption-by-country). "
   ]
  },
  {
   "cell_type": "code",
   "execution_count": null,
   "id": "590e56ea",
   "metadata": {
    "id": "c90e5712"
   },
   "outputs": [],
   "source": [
    "# import the packages\n",
    "\n",
    "# TODO: import package for dealing with data\n",
    "\n",
    "\n",
    "# TODO: import package to plot pretty figures\n",
    "\n",
    "\n",
    "# TODO: add the magic line for showing figures within jupyter notebook\n"
   ]
  },
  {
   "cell_type": "code",
   "execution_count": null,
   "id": "b0874fef",
   "metadata": {
    "id": "cddf661b"
   },
   "outputs": [],
   "source": [
    "# TODO: import the police dataset into a pandas dataframe \n"
   ]
  },
  {
   "cell_type": "code",
   "execution_count": null,
   "id": "75e702cb",
   "metadata": {
    "code_folding": [],
    "id": "0e114162"
   },
   "outputs": [],
   "source": [
    "# TODO: Let's view the first 5 rows of the dataset. \n"
   ]
  },
  {
   "cell_type": "markdown",
   "id": "eeb0af03",
   "metadata": {
    "id": "eeb0af03"
   },
   "source": [
    "### What is this dataset about? \n",
    "\n",
    "> Each row in the dataset represents a stop made by traffic police in Rhode Island for a particular reason. "
   ]
  },
  {
   "cell_type": "code",
   "execution_count": null,
   "id": "74867d48",
   "metadata": {
    "id": "cd784005"
   },
   "outputs": [],
   "source": [
    "# TODO: Let's see the first row. \n"
   ]
  },
  {
   "cell_type": "code",
   "execution_count": null,
   "id": "a51ae59d",
   "metadata": {
    "id": "297a6752"
   },
   "outputs": [],
   "source": [
    "# TODO: Find the number of rows and columns in the dataset. \n"
   ]
  },
  {
   "cell_type": "markdown",
   "id": "0550a68a",
   "metadata": {
    "id": "0550a68a"
   },
   "source": [
    "> It tells us that the dataset has $____$ rows and $____$ columns. "
   ]
  },
  {
   "cell_type": "markdown",
   "id": "bBzXji7mTCIz",
   "metadata": {
    "id": "bBzXji7mTCIz"
   },
   "source": [
    "## Q1. Why do we not have parenthesis in front of `.shape` like we do for `.head()`? \n",
    "> Answer here. "
   ]
  },
  {
   "cell_type": "code",
   "execution_count": null,
   "id": "8e7d5c12",
   "metadata": {
    "id": "slNl9GM7T--p"
   },
   "outputs": [],
   "source": [
    "# TODO: Now, let's get to know the data type of each column. \n"
   ]
  },
  {
   "cell_type": "markdown",
   "id": "ovDYvIXSVIg2",
   "metadata": {
    "id": "ovDYvIXSVIg2"
   },
   "source": [
    "# Exercise I. Handling Missing Data \n",
    "Now, let's check for missing data. Do we have any `NaN` values? "
   ]
  },
  {
   "cell_type": "code",
   "execution_count": null,
   "id": "cc32d89c",
   "metadata": {
    "id": "60d581ca"
   },
   "outputs": [],
   "source": [
    "# TODO: Check if we have NaN values\n"
   ]
  },
  {
   "cell_type": "code",
   "execution_count": null,
   "id": "3054d68d",
   "metadata": {
    "id": "3574e4d2"
   },
   "outputs": [],
   "source": [
    "# TODO: Tell me if the value is present or not - for each value\n",
    "# in the dataframe\n"
   ]
  },
  {
   "cell_type": "code",
   "execution_count": null,
   "id": "d831879a",
   "metadata": {
    "id": "d831879a"
   },
   "outputs": [],
   "source": [
    "# TODO: Find the number of missing values in each column. \n"
   ]
  },
  {
   "cell_type": "markdown",
   "id": "hkoYalXhYlVB",
   "metadata": {
    "id": "hkoYalXhYlVB"
   },
   "source": [
    "\n",
    "\n",
    "__Note:__ \n",
    "- __Axis 0__ represents performing operation __for each Column__. The sum _Goes  Down_ for each column. This is the default setting. We just calculated the sum of all `1`s and `0`s like this:  \n",
    "\n",
    "<img src=\"img/axis_0_axis_rows.png\">   \n",
    "\n",
    "\n",
    "\n",
    "- __Axis 1__ represents performing operations __for each Row__.  The sum _Goes Right_ for each row.  \n",
    "\n",
    "<img src=\"img/axis_1_axis_columns.png\">   \n",
    "\n",
    "\n",
    "- Memory Trick: I always forget this! `C` looks like $0$. Axis $0$ represents performing operations for each `C`. "
   ]
  },
  {
   "cell_type": "code",
   "execution_count": null,
   "id": "r8zSTAwJZL0r",
   "metadata": {
    "id": "r8zSTAwJZL0r"
   },
   "outputs": [],
   "source": [
    "# TODO: Try the same code with axis=1 \n"
   ]
  },
  {
   "cell_type": "markdown",
   "id": "39e3a0db",
   "metadata": {
    "id": "39e3a0db"
   },
   "source": [
    "## Q2. If I wanted to get the mean age of the driver, what `axis` should I use? "
   ]
  },
  {
   "cell_type": "code",
   "execution_count": null,
   "id": "PQLm8q_kg4jQ",
   "metadata": {
    "id": "PQLm8q_kg4jQ"
   },
   "outputs": [],
   "source": [
    "# TODO: Get the mean age of the driver\n"
   ]
  },
  {
   "cell_type": "markdown",
   "id": "n_K8mvgshfyk",
   "metadata": {
    "id": "n_K8mvgshfyk"
   },
   "source": [
    "Let's get started with the exercises. "
   ]
  },
  {
   "cell_type": "markdown",
   "id": "9ef10bd5",
   "metadata": {
    "id": "9ef10bd5"
   },
   "source": [
    "### Remove columns that only contain `NaN` values. "
   ]
  },
  {
   "cell_type": "markdown",
   "id": "GxmF9VbXlLpN",
   "metadata": {
    "id": "GxmF9VbXlLpN"
   },
   "source": [
    "### 1. Identify which columns to delete. \n"
   ]
  },
  {
   "cell_type": "code",
   "execution_count": null,
   "id": "48a53def",
   "metadata": {
    "id": "48a53def"
   },
   "outputs": [],
   "source": [
    "# TODO: Find columns that are empty (or have all NaN values). \n"
   ]
  },
  {
   "cell_type": "markdown",
   "id": "ewjSdjSdkMDD",
   "metadata": {
    "id": "ewjSdjSdkMDD"
   },
   "source": [
    "#### Boolean Masking  \n",
    "- It's a way of filtering data using a list of True/False values. \n",
    "- If the value at the corresponding index is `True`, we'll include it. \n",
    "- If the value at the corresponding index is `False`, we'll exclude it. "
   ]
  },
  {
   "cell_type": "code",
   "execution_count": null,
   "id": "24890be5",
   "metadata": {
    "id": "24890be5"
   },
   "outputs": [],
   "source": [
    "# TODO: Get the list of columns\n"
   ]
  },
  {
   "cell_type": "code",
   "execution_count": null,
   "id": "523e883d",
   "metadata": {},
   "outputs": [],
   "source": [
    "# TODO: Create a null_mask to filter in empty columns\n"
   ]
  },
  {
   "cell_type": "code",
   "execution_count": null,
   "id": "33189679",
   "metadata": {
    "colab": {
     "base_uri": "https://localhost:8080/"
    },
    "id": "33189679",
    "outputId": "0ac74120-2f0a-4fb9-a4d7-a05cc739b04b"
   },
   "outputs": [],
   "source": [
    "# TODO: Get the list of columns have only missing values. \n"
   ]
  },
  {
   "cell_type": "markdown",
   "id": "a2c3a520",
   "metadata": {
    "id": "a2c3a520"
   },
   "source": [
    "### 2. Dropping the columns"
   ]
  },
  {
   "cell_type": "code",
   "execution_count": null,
   "id": "27dfb6e5",
   "metadata": {
    "id": "27dfb6e5"
   },
   "outputs": [],
   "source": [
    "# TODO: Drop the 'county_name' column from the dataframe\n"
   ]
  },
  {
   "cell_type": "markdown",
   "id": "fc350bb0",
   "metadata": {},
   "source": [
    "It's really important to check our work."
   ]
  },
  {
   "cell_type": "code",
   "execution_count": null,
   "id": "98abe4ae",
   "metadata": {
    "id": "98abe4ae"
   },
   "outputs": [],
   "source": [
    "# TODO: Check if the column was dropped \n"
   ]
  },
  {
   "cell_type": "markdown",
   "id": "efb98f71",
   "metadata": {
    "id": "efb98f71"
   },
   "source": [
    "> ### Q3. What are the lessons learned from exercise I? \n",
    "1. \n",
    "2. \n",
    "3. \n"
   ]
  },
  {
   "cell_type": "markdown",
   "id": "9c8f68d1",
   "metadata": {
    "id": "9c8f68d1"
   },
   "source": [
    "## Exercise II: Comparing Groups"
   ]
  },
  {
   "cell_type": "markdown",
   "id": "14c7c8df",
   "metadata": {},
   "source": [
    "In this exercise, the question we are going to answer is: "
   ]
  },
  {
   "cell_type": "markdown",
   "id": "e7d56609",
   "metadata": {
    "id": "e7d56609"
   },
   "source": [
    "### Ex Question: Do men or women speed more often? "
   ]
  },
  {
   "cell_type": "code",
   "execution_count": null,
   "id": "a11d9e85",
   "metadata": {
    "id": "a11d9e85"
   },
   "outputs": [],
   "source": [
    "# TODO: Let's first view the 'driver_gender' and 'violation' columns\n"
   ]
  },
  {
   "cell_type": "code",
   "execution_count": null,
   "id": "22c2f148",
   "metadata": {
    "id": "22c2f148"
   },
   "outputs": [],
   "source": [
    "# TODO: Let's find out the unique values these columns have, along\n",
    "# with the count of those values. \n"
   ]
  },
  {
   "cell_type": "code",
   "execution_count": null,
   "id": "04bc33cb",
   "metadata": {
    "id": "04bc33cb"
   },
   "outputs": [],
   "source": [
    "# TODO: Let's get the value counts of the violation column \n"
   ]
  },
  {
   "cell_type": "markdown",
   "id": "d1dbe905",
   "metadata": {},
   "source": [
    "## Q4. Think about it. How would you find the answer to the question - \"Do men or women speed more often?\" \n",
    "> Answer here. "
   ]
  },
  {
   "cell_type": "code",
   "execution_count": null,
   "id": "589d62f6",
   "metadata": {
    "id": "589d62f6"
   },
   "outputs": [],
   "source": [
    "# TODO: Given that you are stopped for speeding, how often\n",
    "# is it a man vs woman? \n"
   ]
  },
  {
   "cell_type": "code",
   "execution_count": null,
   "id": "c9424c8e",
   "metadata": {
    "id": "c9424c8e"
   },
   "outputs": [],
   "source": [
    "# TODO: Get the *proportion* of times it was a male vs female\n"
   ]
  },
  {
   "cell_type": "markdown",
   "id": "07491b56",
   "metadata": {
    "id": "07491b56"
   },
   "source": [
    "## Groupby\n",
    "\n",
    "We can also answer the question **Do men or women speed more often** using [`pd.DataFrame.grouby()`](https://pandas.pydata.org/pandas-docs/stable/reference/api/pandas.DataFrame.groupby.html).   \n",
    "\n",
    "> The `groupby` function works great when we want to perform aggregations on a particular column, for each group."
   ]
  },
  {
   "cell_type": "code",
   "execution_count": null,
   "id": "526ed661",
   "metadata": {
    "id": "526ed661",
    "outputId": "8d96ca9f-d6e0-4749-e78e-69a010903b66"
   },
   "outputs": [],
   "source": [
    "# TODO: Import the drinks dataset: http://bit.ly/drinksbycountry\n",
    "# and show it's head\n"
   ]
  },
  {
   "cell_type": "code",
   "execution_count": null,
   "id": "7e484edc",
   "metadata": {
    "id": "7e484edc"
   },
   "outputs": [],
   "source": [
    "# TODO: Find the average servings for each type of alcohol across all countries\n"
   ]
  },
  {
   "cell_type": "code",
   "execution_count": null,
   "id": "8f5e53d1",
   "metadata": {
    "id": "8f5e53d1"
   },
   "outputs": [],
   "source": [
    "# TODO: Find the average beer serving for each continent.\n"
   ]
  },
  {
   "cell_type": "markdown",
   "id": "a43311bf",
   "metadata": {
    "id": "a43311bf"
   },
   "source": [
    "The format of using the `groupby` is usually this:  \n",
    "\n",
    "```python\n",
    "pd.DataFrame.groupby(\n",
    "'column_you_want_to_use_to_create_groups'\n",
    ").column_you_want_aggregations_on.agg_func()\n",
    "```"
   ]
  },
  {
   "cell_type": "markdown",
   "id": "b48f1e9d",
   "metadata": {},
   "source": [
    "### But, what is happening behind the scenes? \n",
    "\n",
    "Let's look at a single continent by filtering the data for rows pertaining to Africa. "
   ]
  },
  {
   "cell_type": "code",
   "execution_count": null,
   "id": "7b886723",
   "metadata": {
    "id": "7b886723"
   },
   "outputs": [],
   "source": [
    "# TODO: Create a subset of dataframe with rows pertaining to Africa\n",
    "\n",
    "\n",
    "# TODO: View it's head\n"
   ]
  },
  {
   "cell_type": "code",
   "execution_count": null,
   "id": "ada9b4ac",
   "metadata": {},
   "outputs": [],
   "source": [
    "# TODO: Show what drinks.continent == 'Africa' looks like \n"
   ]
  },
  {
   "cell_type": "code",
   "execution_count": null,
   "id": "fc3f7236",
   "metadata": {
    "id": "fc3f7236"
   },
   "outputs": [],
   "source": [
    "# TODO: Find the average beer servings for african countries \n"
   ]
  },
  {
   "cell_type": "code",
   "execution_count": null,
   "id": "ed7038e5",
   "metadata": {
    "id": "ed7038e5"
   },
   "outputs": [],
   "source": [
    "# TODO: Cross check with what grouping by continent had to say\n"
   ]
  },
  {
   "cell_type": "code",
   "execution_count": null,
   "id": "f4a59814",
   "metadata": {
    "id": "f4a59814"
   },
   "outputs": [],
   "source": [
    "# TODO: Let's see the average beer servings for Europe \n"
   ]
  },
  {
   "cell_type": "markdown",
   "id": "f8cf94a2",
   "metadata": {},
   "source": [
    "#### When should we use groupby? \n",
    "- Whenever you can rephrase your question to include the **\"for each\"**, then you can use groupby. \n",
    "\n",
    "For example: \n",
    "> **What is the average beer serving, by continent?**\n",
    "\n",
    "to  \n",
    "\n",
    "> **What is the average beer serving FOR EACH continent?** "
   ]
  },
  {
   "cell_type": "markdown",
   "id": "18ec9a90",
   "metadata": {
    "id": "18ec9a90"
   },
   "source": [
    "### How do I get descriptive statistics of a dataset? "
   ]
  },
  {
   "cell_type": "code",
   "execution_count": null,
   "id": "95286824",
   "metadata": {
    "id": "95286824"
   },
   "outputs": [],
   "source": [
    "# TODO: Get descriptive statistics for each numerical column\n",
    "# in drinks dataframe  \n"
   ]
  },
  {
   "cell_type": "markdown",
   "id": "880884b8",
   "metadata": {},
   "source": [
    "### How do I get descriptive statistics for a specific column, for each group? "
   ]
  },
  {
   "cell_type": "markdown",
   "id": "877246ee",
   "metadata": {},
   "source": [
    "Now, we can use `.describe()` function on the groupings we have. "
   ]
  },
  {
   "cell_type": "code",
   "execution_count": null,
   "id": "9e0dffca",
   "metadata": {
    "id": "9e0dffca"
   },
   "outputs": [],
   "source": [
    "# TODO: Get the descriptive statistics of beer servings \n",
    "# FOR EACH continent \n"
   ]
  },
  {
   "cell_type": "markdown",
   "id": "fea041c4",
   "metadata": {},
   "source": [
    "### How do I get mean for all numerical columns for each group? "
   ]
  },
  {
   "cell_type": "markdown",
   "id": "458396d3",
   "metadata": {
    "id": "458396d3"
   },
   "source": [
    "- The format of using the `groupby` is usually this:  \n",
    "\n",
    "```python\n",
    "pd.DataFrame.groupby('column_you_want_to_use_to_create_groups').column_you_want_aggregations_of.agg_func()\n",
    "``` \n",
    "\n",
    "- But, you can also use this format:\n",
    "\n",
    "```python\n",
    "pd.DataFrame.groupby('column_you_want_to_use_to_create_groups').agg_func()\n",
    "```\n",
    "\n",
    "- We can totally skip the `column_you_want_aggregations_of` to compute that `agg_func()` for each numerical column. "
   ]
  },
  {
   "cell_type": "code",
   "execution_count": null,
   "id": "b7810015",
   "metadata": {
    "id": "b7810015",
    "outputId": "82d1c076-db37-43c9-fb28-1282ee7a921c"
   },
   "outputs": [],
   "source": [
    "# TODO: Get the mean of all numeric columns FOR EACH continent \n"
   ]
  },
  {
   "cell_type": "markdown",
   "id": "1683d2e0",
   "metadata": {
    "id": "1683d2e0"
   },
   "source": [
    "### A sneak preview of plotting with pandas: "
   ]
  },
  {
   "cell_type": "markdown",
   "id": "377c00b7",
   "metadata": {
    "id": "377c00b7"
   },
   "source": [
    "> __We can even use a combination of `groupby` and `.plot()` function to create plots easily!__"
   ]
  },
  {
   "cell_type": "code",
   "execution_count": null,
   "id": "1aa3a91c",
   "metadata": {
    "id": "1aa3a91c"
   },
   "outputs": [],
   "source": [
    "# TODO: Lets make a bar plot, plotting average beer servings \n",
    "# for each continent  \n"
   ]
  },
  {
   "cell_type": "code",
   "execution_count": null,
   "id": "9f8f6eb7",
   "metadata": {
    "id": "9f8f6eb7"
   },
   "outputs": [],
   "source": [
    "# TODO: Try to sort the above plot in descending order \n"
   ]
  },
  {
   "cell_type": "markdown",
   "id": "3a659df8",
   "metadata": {},
   "source": [
    "### How to make a side-by-side bar plot using group by? \n",
    "\n",
    "- We can use the query we used to get the average of each numeric column, **for each** continent. "
   ]
  },
  {
   "cell_type": "code",
   "execution_count": null,
   "id": "0878a97b",
   "metadata": {
    "id": "0878a97b"
   },
   "outputs": [],
   "source": [
    "# TODO: Side-By-Side Plot: \n",
    "# Plot the mean servings for each kind of drink for \n",
    "# each continent.  \n"
   ]
  },
  {
   "cell_type": "markdown",
   "id": "32af5d78",
   "metadata": {
    "id": "32af5d78"
   },
   "source": [
    "### Okay. Back to our `police` dataset,  and to our question! \n",
    "\n",
    "> #### Do men or women speed more often? "
   ]
  },
  {
   "cell_type": "markdown",
   "id": "16f7960a",
   "metadata": {
    "id": "16f7960a"
   },
   "source": [
    "So again, we can use the following line of thinking: "
   ]
  },
  {
   "cell_type": "markdown",
   "id": "dfd08065",
   "metadata": {
    "id": "dfd08065"
   },
   "source": [
    "> #### When someone is stopped for speeding, how often is it a man vs a woman? "
   ]
  },
  {
   "cell_type": "code",
   "execution_count": null,
   "id": "83ca6bce",
   "metadata": {
    "id": "83ca6bce"
   },
   "outputs": [],
   "source": [
    "# TODO: Get the proportion of times M vs F is stopped for speeding\n"
   ]
  },
  {
   "cell_type": "markdown",
   "id": "92a3e9dc",
   "metadata": {},
   "source": [
    "Let's try to use a `groupby` here! "
   ]
  },
  {
   "cell_type": "code",
   "execution_count": null,
   "id": "fbf69155",
   "metadata": {
    "id": "fbf69155"
   },
   "outputs": [],
   "source": [
    "# TODO: Get the driver gender proportions for each violation \n"
   ]
  },
  {
   "cell_type": "code",
   "execution_count": null,
   "id": "fd9fcc78",
   "metadata": {
    "id": "fd9fcc78"
   },
   "outputs": [],
   "source": [
    "# TODO: Make the above dataframe neat by using .unstack() to pivot \n",
    "# the dataframe \n"
   ]
  },
  {
   "cell_type": "code",
   "execution_count": null,
   "id": "4714aa6f",
   "metadata": {
    "id": "4714aa6f"
   },
   "outputs": [],
   "source": [
    "# TODO: Save the data to a sub dataframe  \n"
   ]
  },
  {
   "cell_type": "code",
   "execution_count": null,
   "id": "52836e3e",
   "metadata": {
    "id": "52836e3e"
   },
   "outputs": [],
   "source": [
    "# TODO: Plot the data as a bar plot \n"
   ]
  },
  {
   "cell_type": "markdown",
   "id": "34d4230b",
   "metadata": {
    "id": "34d4230b"
   },
   "source": [
    "## Q5. What are the chances of getting arrested for each violation? "
   ]
  },
  {
   "cell_type": "markdown",
   "id": "4b0f42b7",
   "metadata": {
    "id": "4b0f42b7"
   },
   "source": [
    "The relevant columns here are `violation` and `is_arrested`. "
   ]
  },
  {
   "cell_type": "code",
   "execution_count": null,
   "id": "ef1f01b3",
   "metadata": {
    "id": "ef1f01b3"
   },
   "outputs": [],
   "source": [
    "# TODO: Get the proportion of True vs False for is_arrested \n",
    "# column for each violation \n"
   ]
  },
  {
   "cell_type": "markdown",
   "id": "7adc13e4",
   "metadata": {
    "id": "7adc13e4"
   },
   "source": [
    "## Q6. What are the learnings from Exercise II? \n",
    "> Answer here. "
   ]
  },
  {
   "cell_type": "markdown",
   "id": "3a6e75ff",
   "metadata": {
    "id": "3a6e75ff"
   },
   "source": [
    "## Exercise III: Examining Relationships\n",
    "\n",
    "### Ex Q: Does gender affect who gets searched during a stop? "
   ]
  },
  {
   "cell_type": "markdown",
   "id": "fe089e39",
   "metadata": {
    "id": "fe089e39"
   },
   "source": [
    "The relevant columns here are `driver_gender` and `search_conducted`. "
   ]
  },
  {
   "cell_type": "markdown",
   "id": "50504a93",
   "metadata": {
    "id": "50504a93"
   },
   "source": [
    "> A `search_conducted` means a car search."
   ]
  },
  {
   "cell_type": "code",
   "execution_count": null,
   "id": "e215560c",
   "metadata": {
    "id": "e215560c"
   },
   "outputs": [],
   "source": [
    "# TODO: Show the two columns - driver_gender and search_conducted\n"
   ]
  },
  {
   "cell_type": "code",
   "execution_count": null,
   "id": "a61c85e1",
   "metadata": {
    "id": "a61c85e1"
   },
   "outputs": [],
   "source": [
    "# TODO: Get the value counts for driver_gender\n"
   ]
  },
  {
   "cell_type": "code",
   "execution_count": null,
   "id": "484d07d7",
   "metadata": {
    "id": "484d07d7"
   },
   "outputs": [],
   "source": [
    "# TODO: Get the value counts for search conducted\n"
   ]
  },
  {
   "cell_type": "code",
   "execution_count": null,
   "id": "1431173b",
   "metadata": {
    "id": "1431173b"
   },
   "outputs": [],
   "source": [
    "# TODO: Get the proportion of stops that had a search in it \n"
   ]
  },
  {
   "cell_type": "markdown",
   "id": "23bc90de",
   "metadata": {},
   "source": [
    "We can also use `.mean()` to get the percentage of times a search was conducted. "
   ]
  },
  {
   "cell_type": "code",
   "execution_count": null,
   "id": "69b0b578",
   "metadata": {
    "id": "69b0b578"
   },
   "outputs": [],
   "source": [
    "# TODO: Get the percentage of times a search was conducted using .mean()\n"
   ]
  },
  {
   "cell_type": "markdown",
   "id": "7c959ba0",
   "metadata": {
    "id": "7c959ba0"
   },
   "source": [
    "## Q7. Why does the code `.mean()`  get us percentage of times a search was conducted? \n",
    "> Answer here.   \n",
    "\n",
    "> Hint: $Mean = \\frac{Sum \\ of \\ Observations}{Number \\ of \\ Observations}$ \n",
    "\n",
    ">  Our observations are the `True` and `False` values in the `search_conducted` column."
   ]
  },
  {
   "cell_type": "code",
   "execution_count": null,
   "id": "09ed272c",
   "metadata": {
    "id": "09ed272c"
   },
   "outputs": [],
   "source": [
    "# TODO: Now, let's use groupby to get the search_conducted results \n",
    "# for each gender  \n"
   ]
  },
  {
   "cell_type": "markdown",
   "id": "e3754b80",
   "metadata": {},
   "source": [
    "We can use the above learning to see the percentage of `True`s **for each** gender. "
   ]
  },
  {
   "cell_type": "code",
   "execution_count": null,
   "id": "0ae13560",
   "metadata": {
    "id": "0ae13560"
   },
   "outputs": [],
   "source": [
    "# TODO: Get the % of times each gender is stopped\n"
   ]
  },
  {
   "cell_type": "markdown",
   "id": "857d1378",
   "metadata": {
    "id": "857d1378"
   },
   "source": [
    "## Q8. When a female is stopped,  2%  of the times, she is searched. When a male is stopped,  4%  of the times, he is searched. So, does this prove that gender affects who gets searched? \n",
    "\n",
    "> Answer here. "
   ]
  },
  {
   "cell_type": "markdown",
   "id": "fdcabb77",
   "metadata": {
    "id": "fdcabb77"
   },
   "source": [
    "### Grouping by Two Columns \n",
    "- Let's assume that when people are pulled over for `seat_belt` violation - they are rarely searched. \n",
    "- But, when they are pulled over for `registeration` violation, they are often searched. \n",
    "- What if the `search_conducted` is really tied to `violation` and that men commit more `registeration` violations? "
   ]
  },
  {
   "cell_type": "code",
   "execution_count": null,
   "id": "185aa036",
   "metadata": {},
   "outputs": [],
   "source": [
    "# TODO: Find the proportion of times a search is conducted \n",
    "# for each violation and within that, for each gender. \n"
   ]
  },
  {
   "cell_type": "markdown",
   "id": "3cbe6186",
   "metadata": {
    "id": "3cbe6186"
   },
   "source": [
    "## Q9. Again, have we proven that gender affects who gets searched during a stop? \n",
    "\n",
    "> Answer here. "
   ]
  },
  {
   "cell_type": "markdown",
   "id": "1f581ffe",
   "metadata": {},
   "source": [
    "## Q10. What are the lessons you learned from Exercise 3? \n",
    "> Answer here. "
   ]
  },
  {
   "cell_type": "markdown",
   "id": "70a052a3",
   "metadata": {
    "id": "70a052a3"
   },
   "source": [
    "## Exercise IV: String Methods\n",
    "\n",
    "### Ex Q: During a search, how often is the driver frisked? "
   ]
  },
  {
   "cell_type": "markdown",
   "id": "d3a62f3b",
   "metadata": {},
   "source": [
    "Let's get to know the values of the `search_type` column again. "
   ]
  },
  {
   "cell_type": "code",
   "execution_count": null,
   "id": "711ab84a",
   "metadata": {},
   "outputs": [],
   "source": [
    "# TODO: Show the value counts of the search_type column \n"
   ]
  },
  {
   "cell_type": "markdown",
   "id": "6535fe6f",
   "metadata": {},
   "source": [
    "## Q 14. We want to find the number of values in the `search_type` column which contain the string `'Protective Frisk'`. What should we do? \n",
    "> Answer here."
   ]
  },
  {
   "cell_type": "markdown",
   "id": "b78e3e5c",
   "metadata": {},
   "source": [
    "### Python String Methods Revision "
   ]
  },
  {
   "cell_type": "markdown",
   "id": "380ce7ad",
   "metadata": {},
   "source": [
    "So, Python has string methods, right? "
   ]
  },
  {
   "cell_type": "code",
   "execution_count": null,
   "id": "a59f8102",
   "metadata": {},
   "outputs": [],
   "source": [
    "string = 'Hi, my name is Rishabh.'\n",
    "string.find('Rishabh')"
   ]
  },
  {
   "cell_type": "code",
   "execution_count": null,
   "id": "0cdf01a1",
   "metadata": {},
   "outputs": [],
   "source": [
    "string.lower()"
   ]
  },
  {
   "cell_type": "code",
   "execution_count": null,
   "id": "30ad326d",
   "metadata": {},
   "outputs": [],
   "source": [
    "string.upper()"
   ]
  },
  {
   "cell_type": "markdown",
   "id": "8787b7c8",
   "metadata": {},
   "source": [
    "### So, how do we lowercase an entire column? "
   ]
  },
  {
   "cell_type": "code",
   "execution_count": null,
   "id": "30fb1868",
   "metadata": {},
   "outputs": [],
   "source": [
    "# TODO: Convert all values in the violation column to lowercase \n"
   ]
  },
  {
   "cell_type": "markdown",
   "id": "5852bdda",
   "metadata": {},
   "source": [
    "### Why would this be useful to you? \n",
    "- Imagine you have scraped data from a web page. That web page has city/country names like the following: \n",
    "    - Delhi\n",
    "    - delhi\n",
    "    - Sydney\n",
    "    - sYDneY\n",
    "    - malaysia \n",
    "    - Malaysia\n",
    "- In order to make the values **consistent** in a column, we use string methods. \n",
    "> What do we mean by consisten? We mean that a certain value has only one representation in a column. Therefore, we can either use `'Malaysia'` or `'malaysia'`. "
   ]
  },
  {
   "cell_type": "code",
   "execution_count": null,
   "id": "435d5c70",
   "metadata": {},
   "outputs": [],
   "source": [
    "# TODO: Let's try to convert all values of the violation column to uppercase\n"
   ]
  },
  {
   "cell_type": "code",
   "execution_count": null,
   "id": "5b777b32",
   "metadata": {},
   "outputs": [],
   "source": [
    "# TODO: And finally,lets convert the values of the violation column to \n",
    "# title case \n"
   ]
  },
  {
   "cell_type": "markdown",
   "id": "6be3f902",
   "metadata": {},
   "source": [
    "- Now, back to our question. \n",
    "- Our problem statement was that we want to see which unique values have the string `'Protective Frisk'`. "
   ]
  },
  {
   "cell_type": "code",
   "execution_count": null,
   "id": "a46ce9bf",
   "metadata": {},
   "outputs": [],
   "source": [
    "# TODO: First, lets relook the values of the search_type column \n"
   ]
  },
  {
   "cell_type": "code",
   "execution_count": null,
   "id": "8fe4f2b9",
   "metadata": {},
   "outputs": [],
   "source": [
    "# TODO: First, get the list of unique values in the search type column \n"
   ]
  },
  {
   "cell_type": "code",
   "execution_count": null,
   "id": "c12e86dc",
   "metadata": {},
   "outputs": [],
   "source": [
    "# TODO: Save these unique values to search_type_vals \n"
   ]
  },
  {
   "cell_type": "code",
   "execution_count": null,
   "id": "304bbaed",
   "metadata": {},
   "outputs": [],
   "source": [
    "# TODO: Get True/False values for each unique value in the search_type \n",
    "# column - telling us whether or not it *contains* 'Protective Frisk'\n"
   ]
  },
  {
   "cell_type": "code",
   "execution_count": null,
   "id": "2637a781",
   "metadata": {},
   "outputs": [],
   "source": [
    "# TODO: Use the above boolean array to get the value counts for values \n",
    "# that contain the string 'Protective Frisk'\n"
   ]
  },
  {
   "cell_type": "code",
   "execution_count": null,
   "id": "13165d6a",
   "metadata": {},
   "outputs": [],
   "source": [
    "# TODO: Apply sum() on the above line to get the total number of times \n",
    "# a driver was frisked\n"
   ]
  },
  {
   "cell_type": "markdown",
   "id": "3833d394",
   "metadata": {},
   "source": [
    "An alternative way to do the above would be to just apply the `str.contains` method to the entire `search_type` column, and sum it. Try it. "
   ]
  },
  {
   "cell_type": "code",
   "execution_count": null,
   "id": "1e23cbc0",
   "metadata": {},
   "outputs": [],
   "source": [
    "# TODO: Apply the string contains methods to the entire search_type column\n"
   ]
  },
  {
   "cell_type": "code",
   "execution_count": null,
   "id": "9add98aa",
   "metadata": {},
   "outputs": [],
   "source": [
    "# TODO: Sum the above boolean column \n"
   ]
  },
  {
   "cell_type": "markdown",
   "id": "cf7352fa",
   "metadata": {},
   "source": [
    "### Now, back to our question: \n",
    "> ### Ex Q. During a search, how often is the driver frisked? "
   ]
  },
  {
   "cell_type": "code",
   "execution_count": null,
   "id": "b70aee56",
   "metadata": {},
   "outputs": [],
   "source": [
    "# TODO: Create a sub-dataframe having data of people who were searched. \n"
   ]
  },
  {
   "cell_type": "code",
   "execution_count": null,
   "id": "a1627a6c",
   "metadata": {},
   "outputs": [],
   "source": [
    "# TODO: Get the proportion of times a person was frisked, given they\n",
    "# were searched. \n"
   ]
  },
  {
   "cell_type": "markdown",
   "id": "18da74e3",
   "metadata": {},
   "source": [
    "#### What does this mean? \n",
    "> $8\\%$ of the times, when there is a search, there is a frisk. "
   ]
  },
  {
   "cell_type": "markdown",
   "id": "1b7b1194",
   "metadata": {},
   "source": [
    "## Q15. What are the lessons we learned from Exercise IV? \n",
    "> Answer here. \n"
   ]
  },
  {
   "cell_type": "markdown",
   "id": "73ae490f",
   "metadata": {},
   "source": [
    "## Exercise V: Working with Dates\n",
    "\n",
    "Here, we will ask the question: \n",
    "\n",
    "### Ex Q: Which year had the least number of stops? "
   ]
  },
  {
   "cell_type": "markdown",
   "id": "01d47e6b",
   "metadata": {},
   "source": [
    "## Q15. How should we calculate the total number of stops in a year? \n",
    "> Answer here. "
   ]
  },
  {
   "cell_type": "code",
   "execution_count": null,
   "id": "1247b079",
   "metadata": {},
   "outputs": [],
   "source": [
    "# TODO: Find which column tells us the year of the stop\n"
   ]
  },
  {
   "cell_type": "code",
   "execution_count": null,
   "id": "79d35046",
   "metadata": {},
   "outputs": [],
   "source": [
    "# TODO: See the data type of stop_date \n"
   ]
  },
  {
   "cell_type": "code",
   "execution_count": null,
   "id": "ef4f61bd",
   "metadata": {},
   "outputs": [],
   "source": [
    "# TODO: Convert stop_date to a datetime object\n"
   ]
  },
  {
   "cell_type": "code",
   "execution_count": null,
   "id": "a0fdc20b",
   "metadata": {},
   "outputs": [],
   "source": [
    "# TODO: Reassign stop_date to the converted column \n"
   ]
  },
  {
   "cell_type": "code",
   "execution_count": null,
   "id": "03da3b55",
   "metadata": {},
   "outputs": [],
   "source": [
    "# TODO: Create a column called 'year' and assign to the year of the stop \n"
   ]
  },
  {
   "cell_type": "code",
   "execution_count": null,
   "id": "b1f63454",
   "metadata": {},
   "outputs": [],
   "source": [
    "# TODO: Show a random sample of 5 of the stop_date and year columns together \n"
   ]
  },
  {
   "cell_type": "markdown",
   "id": "40576ca4",
   "metadata": {},
   "source": [
    "So, as you can see, the year column has, just the year of the stop date.   \n",
    "\n",
    "There are many pandas functions for the `dt` methods like: \n",
    "\n",
    "- `pd.Series.dt.dayofweek`\n",
    "- `pd.Series.dt.is_month_end`\n",
    "- `pd.Series.dt.month`\n",
    "- `pd.Series.dt.day` \n",
    "- `pd.Series.dt.hour` \n",
    "\n",
    "and many more. "
   ]
  },
  {
   "cell_type": "markdown",
   "id": "f8892379",
   "metadata": {},
   "source": [
    "### Back to our question \n",
    "\n",
    "> ### Ex Q: Which year had the least number of stops? "
   ]
  },
  {
   "cell_type": "code",
   "execution_count": null,
   "id": "6b0c3e6f",
   "metadata": {},
   "outputs": [],
   "source": [
    "# TODO: Get the value counts for the number of stops in each year \n"
   ]
  },
  {
   "cell_type": "code",
   "execution_count": null,
   "id": "dd1fe7a1",
   "metadata": {},
   "outputs": [],
   "source": [
    "police.year.value_counts()"
   ]
  },
  {
   "cell_type": "markdown",
   "id": "a6976d53",
   "metadata": {},
   "source": [
    "## Q16. So, what did we learn from exercise V?\n",
    "> Answer here. "
   ]
  },
  {
   "cell_type": "code",
   "execution_count": null,
   "id": "ebe7cbad",
   "metadata": {},
   "outputs": [],
   "source": []
  }
 ],
 "metadata": {
  "colab": {
   "name": "pandas_tutorial_workbook.ipynb",
   "provenance": []
  },
  "kernelspec": {
   "display_name": "Python 3",
   "language": "python",
   "name": "python3"
  },
  "language_info": {
   "codemirror_mode": {
    "name": "ipython",
    "version": 3
   },
   "file_extension": ".py",
   "mimetype": "text/x-python",
   "name": "python",
   "nbconvert_exporter": "python",
   "pygments_lexer": "ipython3",
   "version": "3.8.8"
  }
 },
 "nbformat": 4,
 "nbformat_minor": 5
}
